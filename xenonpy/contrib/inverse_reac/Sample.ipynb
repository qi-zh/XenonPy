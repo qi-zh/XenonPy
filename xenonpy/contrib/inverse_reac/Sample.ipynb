{
 "cells": [
  {
   "cell_type": "code",
   "execution_count": 1,
   "metadata": {},
   "outputs": [],
   "source": [
    "import os\n",
    "os.chdir(\"/Users/qi/Documents/work/iSMD/inverse-reac\")\n",
    "import xenonpy\n",
    "xenonpy.__version__\n",
    "import pandas as pd\n",
    "import matplotlib.pyplot as plt\n",
    "import numpy as np"
   ]
  },
  {
   "cell_type": "code",
   "execution_count": 2,
   "metadata": {},
   "outputs": [],
   "source": [
    "# load in-house data\n",
    "data = pd.read_csv(\"./STEREO_reactant_product_xlogp_tpsa_1000.csv\")"
   ]
  },
  {
   "cell_type": "code",
   "execution_count": 3,
   "metadata": {},
   "outputs": [
    {
     "data": {
      "text/html": [
       "<div>\n",
       "<style scoped>\n",
       "    .dataframe tbody tr th:only-of-type {\n",
       "        vertical-align: middle;\n",
       "    }\n",
       "\n",
       "    .dataframe tbody tr th {\n",
       "        vertical-align: top;\n",
       "    }\n",
       "\n",
       "    .dataframe thead th {\n",
       "        text-align: right;\n",
       "    }\n",
       "</style>\n",
       "<table border=\"1\" class=\"dataframe\">\n",
       "  <thead>\n",
       "    <tr style=\"text-align: right;\">\n",
       "      <th></th>\n",
       "      <th>reactant</th>\n",
       "      <th>product</th>\n",
       "      <th>XLogP</th>\n",
       "      <th>TPSA</th>\n",
       "    </tr>\n",
       "  </thead>\n",
       "  <tbody>\n",
       "    <tr>\n",
       "      <th>0</th>\n",
       "      <td>CCS(=O)(=O)Cl.OCCBr</td>\n",
       "      <td>CCS(=O)(=O)OCCBr</td>\n",
       "      <td>0.8</td>\n",
       "      <td>51.8</td>\n",
       "    </tr>\n",
       "    <tr>\n",
       "      <th>1</th>\n",
       "      <td>CC(C)CS(=O)(=O)Cl.OCCCl</td>\n",
       "      <td>CC(C)CS(=O)(=O)OCCCl</td>\n",
       "      <td>1.6</td>\n",
       "      <td>51.8</td>\n",
       "    </tr>\n",
       "    <tr>\n",
       "      <th>2</th>\n",
       "      <td>O=[N+]([O-])c1cccc2cnc(Cl)cc12</td>\n",
       "      <td>Nc1cccc2cnc(Cl)cc12</td>\n",
       "      <td>2.4</td>\n",
       "      <td>38.9</td>\n",
       "    </tr>\n",
       "    <tr>\n",
       "      <th>3</th>\n",
       "      <td>Cc1cc2c([N+](=O)[O-])cccc2c[n+]1[O-].O=P(Cl)(C...</td>\n",
       "      <td>Cc1cc2c([N+](=O)[O-])cccc2c(Cl)n1</td>\n",
       "      <td>3.3</td>\n",
       "      <td>58.7</td>\n",
       "    </tr>\n",
       "    <tr>\n",
       "      <th>4</th>\n",
       "      <td>CCCCC[C@H](O)C=CC1C=CC(=O)C1CC=CCCCC(=O)O</td>\n",
       "      <td>CCCCC[C@H](O)C=CC1CCC(=O)C1CC=CCCCC(=O)O</td>\n",
       "      <td>3.8</td>\n",
       "      <td>74.6</td>\n",
       "    </tr>\n",
       "  </tbody>\n",
       "</table>\n",
       "</div>"
      ],
      "text/plain": [
       "                                            reactant  \\\n",
       "0                                CCS(=O)(=O)Cl.OCCBr   \n",
       "1                            CC(C)CS(=O)(=O)Cl.OCCCl   \n",
       "2                     O=[N+]([O-])c1cccc2cnc(Cl)cc12   \n",
       "3  Cc1cc2c([N+](=O)[O-])cccc2c[n+]1[O-].O=P(Cl)(C...   \n",
       "4          CCCCC[C@H](O)C=CC1C=CC(=O)C1CC=CCCCC(=O)O   \n",
       "\n",
       "                                    product  XLogP  TPSA  \n",
       "0                          CCS(=O)(=O)OCCBr    0.8  51.8  \n",
       "1                      CC(C)CS(=O)(=O)OCCCl    1.6  51.8  \n",
       "2                       Nc1cccc2cnc(Cl)cc12    2.4  38.9  \n",
       "3         Cc1cc2c([N+](=O)[O-])cccc2c(Cl)n1    3.3  58.7  \n",
       "4  CCCCC[C@H](O)C=CC1CCC(=O)C1CC=CCCCC(=O)O    3.8  74.6  "
      ]
     },
     "execution_count": 3,
     "metadata": {},
     "output_type": "execute_result"
    }
   ],
   "source": [
    "# take a look at the data\n",
    "data.columns\n",
    "data.head()"
   ]
  },
  {
   "cell_type": "code",
   "execution_count": 4,
   "metadata": {},
   "outputs": [
    {
     "data": {
      "image/png": "[encoded data removed]",
      "text/plain": [
       "<Figure size 360x360 with 1 Axes>"
      ]
     },
     "metadata": {
      "needs_background": "light"
     },
     "output_type": "display_data"
    }
   ],
   "source": [
    "# check target properties: XLogP & TPSA gap\n",
    "plt.figure(figsize=(5,5))\n",
    "plt.scatter(data['XLogP'],data['TPSA'],s=15,c='b',alpha = 0.1,label=\"full data\")\n",
    "plt.legend(loc='upper right')\n",
    "plt.title('iSMD sample data')\n",
    "plt.xlabel('XLogP')\n",
    "plt.ylabel('topological polar surface area')\n",
    "plt.show()"
   ]
  },
  {
   "cell_type": "code",
   "execution_count": 5,
   "metadata": {},
   "outputs": [
    {
     "name": "stdout",
     "output_type": "stream",
     "text": [
      "   maccs:0  maccs:1  maccs:2  maccs:3  maccs:4  maccs:5  maccs:6  maccs:7  \\\n",
      "0        0        0        0        0        0        0        0        0   \n",
      "1        0        0        0        0        0        0        0        0   \n",
      "2        0        0        0        0        0        0        0        0   \n",
      "3        0        0        0        0        0        0        0        0   \n",
      "4        0        0        0        0        0        0        0        0   \n",
      "\n",
      "   maccs:8  maccs:9  ...  ecfp3:2038  ecfp3:2039  ecfp3:2040  ecfp3:2041  \\\n",
      "0        0        0  ...           0           0           0           0   \n",
      "1        0        0  ...           0           0           0           0   \n",
      "2        0        0  ...           0           0           0           0   \n",
      "3        0        0  ...           0           0           0           0   \n",
      "4        0        0  ...           0           0           0           0   \n",
      "\n",
      "   ecfp3:2042  ecfp3:2043  ecfp3:2044  ecfp3:2045  ecfp3:2046  ecfp3:2047  \n",
      "0           0           0           0           0           0           0  \n",
      "1           0           0           0           0           0           0  \n",
      "2           0           0           0           0           0           0  \n",
      "3           0           0           0           0           0           0  \n",
      "4           0           0           0           0           0           0  \n",
      "\n",
      "[5 rows x 2215 columns]\n"
     ]
    }
   ],
   "source": [
    "# SMILES to Fingerprint\n",
    "from xenonpy.descriptor import Fingerprints\n",
    "RDKit_FPs = Fingerprints(featurizers=['ECFP', 'MACCS'], input_type='smiles')\n",
    "tmp_FPs = RDKit_FPs.transform(data['product'])\n",
    "print(tmp_FPs.head())"
   ]
  },
  {
   "cell_type": "code",
   "execution_count": 6,
   "metadata": {},
   "outputs": [],
   "source": [
    "# Load estimator\n",
    "from ismd import GaussianLogLikelihood\n",
    "# Load modifier\n",
    "from ismd import PoolSampler"
   ]
  },
  {
   "cell_type": "code",
   "execution_count": 7,
   "metadata": {},
   "outputs": [],
   "source": [
    "# Set target region\n",
    "prop = ['XLogP','TPSA']\n",
    "target_range = {'XLogP': (-2,2), 'TPSA': (0, 25)}"
   ]
  },
  {
   "cell_type": "code",
   "execution_count": 8,
   "metadata": {},
   "outputs": [],
   "source": [
    "# forward models\n",
    "prd_mdls = GaussianLogLikelihood(descriptor=RDKit_FPs, targets = target_range)\n",
    "prd_mdls.fit(data['product'], data[prop])"
   ]
  },
  {
   "cell_type": "code",
   "execution_count": 9,
   "metadata": {},
   "outputs": [],
   "source": [
    "# Modifier\n",
    "reactant_pool = [line.rstrip('\\n') for line in open(\"/Users/qi/Documents/work/iSMD/data/STEREO_pool.txt\")] #len(reactant_pool)=637645\n",
    "reactant_pool1000=reactant_pool[:1000]\n",
    "pool_sampler = PoolSampler(reactant_pool=reactant_pool1000)"
   ]
  },
  {
   "cell_type": "code",
   "execution_count": 10,
   "metadata": {},
   "outputs": [],
   "source": [
    "# Reactor\n",
    "from ismd import Reactor\n",
    "ChemicalReactor = Reactor()       \n",
    "ChemicalReactor.BuildReactor(model_list=['./ismd/transformer_models/STEREO_mixed_augm_model_average_20.pt'], max_length=100, n_best=1) "
   ]
  },
  {
   "cell_type": "code",
   "execution_count": 11,
   "metadata": {},
   "outputs": [
    {
     "name": "stdout",
     "output_type": "stream",
     "text": [
      "['ClCCCN1CCN(Cc2ccc(Br)cc2)CC1.O=C1CCCc2c(O)cccc21'\n",
      " 'O=S(Cl)Cl.OCc1cccc2cc(Br)ccc12'\n",
      " 'CCOc1ccccc1N1CCN(CCCCl)CC1.O=C1CCCc2c(O)cccc21'\n",
      " 'COc1ccc(N2CCN(CCCCl)CC2)cc1.O=C1CCCc2c(O)cccc21' 'Cc1ccc(C)cc1.[Li]CCCC'\n",
      " 'CN(C)C=O.O=C(O)c1cc(-n2c(-c3ccc(Br)cc3)cc3c2CCCC3)ccc1O'\n",
      " 'C=C.CC(=O)O.CC(=O)[O-].CC(C)(C)c1ccccc1'\n",
      " 'ClC(Cl)(Cl)c1nc(C(Cl)(Cl)Cl)nc(C(Cl)(Cl)Cl)n1.NCc1ccccc1'\n",
      " 'CN(C)C=O.O=C1CCC2(CC1)Cc1ccccc1C2.[N-]=[N+]=[N-]'\n",
      " 'CC(C)=O.CCCCCC(CC[C@H]1CCC(=O)[C@@H]1CCCCCCC(=O)OCC)OS(C)(=O)=O.O=C([O-])Cc1cccs1']\n"
     ]
    }
   ],
   "source": [
    "# Initial generation\n",
    "cans = [smi for i, smi in enumerate(data['reactant'])\n",
    "       if (data['XLogP'].iloc[i] > 4)]\n",
    "init_samples = np.random.choice(cans, 10)\n",
    "print(init_samples)"
   ]
  },
  {
   "cell_type": "code",
   "execution_count": 12,
   "metadata": {},
   "outputs": [],
   "source": [
    "# Main routine\n",
    "from ismd import ISMD\n",
    "\n",
    "ismd_main = ISMD(estimator=prd_mdls, modifier=pool_sampler, reactor=ChemicalReactor)"
   ]
  },
  {
   "cell_type": "code",
   "execution_count": 13,
   "metadata": {},
   "outputs": [
    {
     "name": "stdout",
     "output_type": "stream",
     "text": [
      "Generation: 0\n"
     ]
    },
    {
     "name": "stderr",
     "output_type": "stream",
     "text": [
      "/usr/local/miniconda3/envs/ismdd/lib/python3.6/site-packages/torchtext/data/field.py:359: UserWarning: To copy construct from a tensor, it is recommended to use sourceTensor.clone().detach() or sourceTensor.clone().detach().requires_grad_(True), rather than torch.tensor(sourceTensor).\n",
      "  var = torch.tensor(arr, dtype=self.dtype, device=device)\n",
      "/Users/distiller/project/conda/conda-bld/pytorch_1591914889657/work/aten/src/ATen/native/BinaryOps.cpp:81: UserWarning: Integer division of tensors using div or / is deprecated, and in a future release div will perform true division as in Python 3. Use true_divide or floor_divide (// in Python) instead.\n"
     ]
    },
    {
     "name": "stdout",
     "output_type": "stream",
     "text": [
      "['ClCCCN1CCN(Cc2ccc(Br)cc2)CC1.O=C1CCCc2c(O)cccc21'\n",
      " 'O=S(Cl)Cl.OCc1cccc2cc(Br)ccc12'\n",
      " 'CCOc1ccccc1N1CCN(CCCCl)CC1.O=C1CCCc2c(O)cccc21'\n",
      " 'COc1ccc(N2CCN(CCCCl)CC2)cc1.O=C1CCCc2c(O)cccc21' 'Cc1ccc(C)cc1.[Li]CCCC'\n",
      " 'CN(C)C=O.O=C(O)c1cc(-n2c(-c3ccc(Br)cc3)cc3c2CCCC3)ccc1O'\n",
      " 'C=C.CC(=O)O.CC(=O)[O-].CC(C)(C)c1ccccc1'\n",
      " 'ClC(Cl)(Cl)c1nc(C(Cl)(Cl)Cl)nc(C(Cl)(Cl)Cl)n1.NCc1ccccc1'\n",
      " 'CN(C)C=O.O=C1CCC2(CC1)Cc1ccccc1C2.[N-]=[N+]=[N-]'\n",
      " 'CC(C)=O.CCCCCC(CC[C@H]1CCC(=O)[C@@H]1CCCCCCC(=O)OCC)OS(C)(=O)=O.O=C([O-])Cc1cccs1']\n",
      "['O=C1CCCc2c(OCCCN3CCN(Cc4ccc(Br)cc4)CC3)cccc21', 'ClCc1cccc2cc(Br)ccc12', 'CCOc1ccccc1N1CCN(CCCOc2cccc3c2CCCC3=O)CC1', 'COc1ccc(N2CCN(CCCOc3cccc4c3CCCC4=O)CC2)cc1', '[Li]Cc1ccc(C)cc1', 'N#Cc1ccc(-c2cc3c(n2-c2ccc(O)c(C(=O)O)c2)CCCC3)cc1', 'CC(C)(C)c1ccc(CCO)cc1', 'ClC(Cl)(Cl)c1nc(NCc2ccccc2)nc(C(Cl)(Cl)Cl)n1', '[N-]=[N+]=NC1CCC2(CCc3ccccc3C2)CC1', 'CCCCCC(CC[C@H]1CCC(=O)[C@@H]1CCCCCCC(=O)OCC)SC(C)=O']\n",
      "         XLogP           TPSA\n",
      "0  -512.105316  -1.400438e+02\n",
      "1  -325.353320  -6.931874e-01\n",
      "2  -325.170199  -6.520324e+02\n",
      "3  -351.990121  -6.520325e+02\n",
      "4   -57.560812  -2.328252e-05\n",
      "5  -445.303297  -8.397801e+03\n",
      "6   -82.405064  -1.434185e+01\n",
      "7  -574.714744  -1.484803e+03\n",
      "8  -545.883463 -8.198044e-112\n",
      "9 -1161.681881  -8.261247e+03\n",
      "Generation: 1\n"
     ]
    },
    {
     "name": "stderr",
     "output_type": "stream",
     "text": [
      "/usr/local/miniconda3/envs/ismdd/lib/python3.6/site-packages/torchtext/data/field.py:359: UserWarning: To copy construct from a tensor, it is recommended to use sourceTensor.clone().detach() or sourceTensor.clone().detach().requires_grad_(True), rather than torch.tensor(sourceTensor).\n",
      "  var = torch.tensor(arr, dtype=self.dtype, device=device)\n"
     ]
    },
    {
     "name": "stdout",
     "output_type": "stream",
     "text": [
      "['ClCCCN1CCN(Cc2ccc(Br)cc2)CC1.O=C1CCCc2c(O)cccc21'\n",
      " 'O=S(Cl)Cl.OCc1cccc2cc(Br)ccc12'\n",
      " 'CCOc1ccccc1N1CCN(CCCCl)CC1.O=C1CCCc2c(O)cccc21'\n",
      " 'COc1ccc(N2CCN(CCCCl)CC2)cc1.O=C1CCCc2c(O)cccc21' 'Cc1ccc(C)cc1.[Li]CCCC'\n",
      " 'CN(C)C=O.O=C(O)c1cc(-n2c(-c3ccc(Br)cc3)cc3c2CCCC3)ccc1O'\n",
      " 'C=C.CC(=O)O.CC(=O)[O-].CC(C)(C)c1ccccc1'\n",
      " 'ClC(Cl)(Cl)c1nc(C(Cl)(Cl)Cl)nc(C(Cl)(Cl)Cl)n1.NCc1ccccc1'\n",
      " 'CN(C)C=O.O=C1CCC2(CC1)Cc1ccccc1C2.[N-]=[N+]=[N-]'\n",
      " 'CC(C)=O.CCCCCC(CC[C@H]1CCC(=O)[C@@H]1CCCCCCC(=O)OCC)OS(C)(=O)=O.O=C([O-])Cc1cccs1']\n",
      "['CCCCOc1ccc(NC(C)=O)cc1NC(C)=O', '[Li]N1CCc2cc3c(cc21)C1(CCN(C)CC1)CO3', 'C[C@@H]1CN(c2nnc(-c3ccccc3)c3ccncc23)CCN1', 'C=Cc1cccc(N)c1', 'COc1cc(Nc2c(C#N)cnc3cc(F)c(OC)cc23)c(Cl)cc1Cl', '[Li]c1c(C)cccc1C', 'CCCCC(=O)c1ccc(OC(C)C)cc1', '[Li]C#Cc1cc(C)cc(Nc2nccc(C(F)F)n2)c1', 'N[C@H]1CC=CC[C@@H](CC(=O)NCc2ccc(Cl)cc2)C(=O)NC[C@@H](c2ccccc2)OC1=O', 'Cc1ccc(C)c(C(=O)c2ccc(Cl)c(Cl)c2)c1']\n",
      "        XLogP          TPSA\n",
      "0   -1.166555 -6.230100e+02\n",
      "1  -16.042477 -1.020886e+00\n",
      "2  -27.007876 -4.453815e+01\n",
      "3  -20.759083 -3.544864e-07\n",
      "4   -4.333718 -1.102492e+02\n",
      "5  -47.079282 -2.738180e-02\n",
      "6 -118.007469 -1.696841e-26\n",
      "7  -40.219576 -5.321078e+00\n",
      "8   -5.604513 -2.020726e+02\n",
      "9 -240.120015 -1.494442e-01\n",
      "Generation: 2\n"
     ]
    },
    {
     "name": "stderr",
     "output_type": "stream",
     "text": [
      "/usr/local/miniconda3/envs/ismdd/lib/python3.6/site-packages/torchtext/data/field.py:359: UserWarning: To copy construct from a tensor, it is recommended to use sourceTensor.clone().detach() or sourceTensor.clone().detach().requires_grad_(True), rather than torch.tensor(sourceTensor).\n",
      "  var = torch.tensor(arr, dtype=self.dtype, device=device)\n"
     ]
    },
    {
     "name": "stdout",
     "output_type": "stream",
     "text": [
      "['ClCCCN1CCN(Cc2ccc(Br)cc2)CC1.O=C1CCCc2c(O)cccc21'\n",
      " 'O=S(Cl)Cl.OCc1cccc2cc(Br)ccc12'\n",
      " 'CCOc1ccccc1N1CCN(CCCCl)CC1.O=C1CCCc2c(O)cccc21'\n",
      " 'COc1ccc(N2CCN(CCCCl)CC2)cc1.O=C1CCCc2c(O)cccc21' 'Cc1ccc(C)cc1.[Li]CCCC'\n",
      " 'CN(C)C=O.O=C(O)c1cc(-n2c(-c3ccc(Br)cc3)cc3c2CCCC3)ccc1O'\n",
      " 'C=C.CC(=O)O.CC(=O)[O-].CC(C)(C)c1ccccc1'\n",
      " 'ClC(Cl)(Cl)c1nc(C(Cl)(Cl)Cl)nc(C(Cl)(Cl)Cl)n1.NCc1ccccc1'\n",
      " 'CN(C)C=O.O=C1CCC2(CC1)Cc1ccccc1C2.[N-]=[N+]=[N-]'\n",
      " 'CC(C)=O.CCCCCC(CC[C@H]1CCC(=O)[C@@H]1CCCCCCC(=O)OCC)OS(C)(=O)=O.O=C([O-])Cc1cccs1']\n",
      "['COCCCOc1cc(C[C@@H](C[C@H]2[C@H](C[C@H](C(=O)NCC(C)(C)C(N)=O)C(C)C)OCN2C(=O)OCC=Cc2cccc([N+](=O)[O-])c2)C(C)C)ccc1OC', 'CCCCC(=O)C(C)(CO)C(c1ccccc1)c1ccc2c(cnn2-c2ccc(F)cc2)c1', 'CCCCCN1CCC2(CC1)COc1cc3c(cc12)NCC3', '[Li]c1sc(SC)nc1-c1cc(C(C)(C)C)c(O)c(C(C)(C)C)c1', 'CCCCC(O)(c1cccc(Br)c1)C1(c2cccc(Br)c2)CCCC1', 'CC(NC(=O)OCc1ccccc1)C(C)NC(=O)c1ccccc1OCCN1CCc2cc3c(cc21)C1(CCN(C)CC1)CO3', 'Cc1nc(OCCCCN2CCc3cc4c(cc32)C2(CCN(C)CC2)CO4)nc2c1ccc(=O)n2C', 'CN1CCC2(CC1)COc1cc3c(cc12)N(CCC1OC(=O)C(OCc2ccccc2)=C1O)CC3', 'CCOC(=O)c1cc(F)cc(-c2ncnc3ccc(N4CCc5cc6c(cc54)C4(CCN(C)CC4)CO6)cc23)c1', 'CCCCC(C#N)c1cc(F)c2c(c1F)OCCO2']\n",
      "        XLogP        TPSA\n",
      "0   -3.381574 -545.753749\n",
      "1  -80.652339  -65.770808\n",
      "2  -36.018191   -0.208016\n",
      "3  -60.872260 -217.703253\n",
      "4 -161.943402   -6.325466\n",
      "5   -6.128075 -259.005289\n",
      "6  -36.429051 -106.940243\n",
      "7  -35.145174  -65.606975\n",
      "8  -18.904016  -64.255257\n",
      "9  -16.912800 -126.063262\n",
      "Generation: 3\n"
     ]
    },
    {
     "name": "stderr",
     "output_type": "stream",
     "text": [
      "/usr/local/miniconda3/envs/ismdd/lib/python3.6/site-packages/torchtext/data/field.py:359: UserWarning: To copy construct from a tensor, it is recommended to use sourceTensor.clone().detach() or sourceTensor.clone().detach().requires_grad_(True), rather than torch.tensor(sourceTensor).\n",
      "  var = torch.tensor(arr, dtype=self.dtype, device=device)\n"
     ]
    },
    {
     "name": "stdout",
     "output_type": "stream",
     "text": [
      "['ClCCCN1CCN(Cc2ccc(Br)cc2)CC1.O=C1CCCc2c(O)cccc21'\n",
      " 'O=S(Cl)Cl.OCc1cccc2cc(Br)ccc12'\n",
      " 'CCOc1ccccc1N1CCN(CCCCl)CC1.O=C1CCCc2c(O)cccc21'\n",
      " 'COc1ccc(N2CCN(CCCCl)CC2)cc1.O=C1CCCc2c(O)cccc21' 'Cc1ccc(C)cc1.[Li]CCCC'\n",
      " 'CN(C)C=O.O=C(O)c1cc(-n2c(-c3ccc(Br)cc3)cc3c2CCCC3)ccc1O'\n",
      " 'C=C.CC(=O)O.CC(=O)[O-].CC(C)(C)c1ccccc1'\n",
      " 'ClC(Cl)(Cl)c1nc(C(Cl)(Cl)Cl)nc(C(Cl)(Cl)Cl)n1.NCc1ccccc1'\n",
      " 'CN(C)C=O.O=C1CCC2(CC1)Cc1ccccc1C2.[N-]=[N+]=[N-]'\n",
      " 'CC(C)=O.CCCCCC(CC[C@H]1CCC(=O)[C@@H]1CCCCCCC(=O)OCC)OS(C)(=O)=O.O=C([O-])Cc1cccs1']\n",
      "['CCCCCNCC1(NC(=O)OC(C)(C)C)COC(C)(C)OC1', 'CCCCCNC(=O)[C@H](Cc1c(C)cc(OCc2sc(-c3ccc(C(F)(F)F)cc3)nc2C)cc1C)OCC', 'CCCCCNC(=O)C[C@H](NC(=O)OC(C)(C)C)C(=O)OCc1ccccc1', 'CCCCCNc1ccc2c(C)c(C)[nH]c2c1', 'CN1CCC2(CC1)COc1cc3c(cc12)N(CCC=C1c2cc(OC(C)(C)C(=O)O)ccc2OCc2ncccc21)CC3', 'CCCCCNC1CCN(Cc2ccccc2)CC1CCC', 'CCCCCNc1cc(C#N)c(N[C@@H](CO)c2ccc(F)cc2)nc1Nc1cc(C2CC2)[nH]n1', 'CCCCCNC(=O)c1ccc(C(c2cccc3cccnc23)N2CCNCC2)cc1', 'CN1CCC2(CC1)COc1cc3c(cc12)N(CCN)CC3', 'Cc1nc2c(N)cc(C(=O)N3CCc4cc5c(cc43)C3(CCN(C)CC3)CO5)cn2c1C']\n",
      "       XLogP        TPSA\n",
      "0  -4.505938 -436.931800\n",
      "1 -30.056505 -131.890327\n",
      "2 -44.581162 -310.000438\n",
      "3 -73.604016   -0.257300\n",
      "4  -4.531436  -60.853815\n",
      "5 -56.738300   -0.001585\n",
      "6 -89.102978 -620.664914\n",
      "7 -55.498220  -80.550708\n",
      "8  -5.129687  -75.444094\n",
      "9  -2.343697 -146.264417\n",
      "Generation: 4\n"
     ]
    },
    {
     "name": "stderr",
     "output_type": "stream",
     "text": [
      "/usr/local/miniconda3/envs/ismdd/lib/python3.6/site-packages/torchtext/data/field.py:359: UserWarning: To copy construct from a tensor, it is recommended to use sourceTensor.clone().detach() or sourceTensor.clone().detach().requires_grad_(True), rather than torch.tensor(sourceTensor).\n",
      "  var = torch.tensor(arr, dtype=self.dtype, device=device)\n"
     ]
    },
    {
     "name": "stdout",
     "output_type": "stream",
     "text": [
      "['ClCCCN1CCN(Cc2ccc(Br)cc2)CC1.O=C1CCCc2c(O)cccc21'\n",
      " 'O=S(Cl)Cl.OCc1cccc2cc(Br)ccc12'\n",
      " 'CCOc1ccccc1N1CCN(CCCCl)CC1.O=C1CCCc2c(O)cccc21'\n",
      " 'COc1ccc(N2CCN(CCCCl)CC2)cc1.O=C1CCCc2c(O)cccc21' 'Cc1ccc(C)cc1.[Li]CCCC'\n",
      " 'CN(C)C=O.O=C(O)c1cc(-n2c(-c3ccc(Br)cc3)cc3c2CCCC3)ccc1O'\n",
      " 'C=C.CC(=O)O.CC(=O)[O-].CC(C)(C)c1ccccc1'\n",
      " 'ClC(Cl)(Cl)c1nc(C(Cl)(Cl)Cl)nc(C(Cl)(Cl)Cl)n1.NCc1ccccc1'\n",
      " 'CN(C)C=O.O=C1CCC2(CC1)Cc1ccccc1C2.[N-]=[N+]=[N-]'\n",
      " 'CC(C)=O.CCCCCC(CC[C@H]1CCC(=O)[C@@H]1CCCCCCC(=O)OCC)OS(C)(=O)=O.O=C([O-])Cc1cccs1']\n",
      "['CCCC1CN(Cc2ccccc2)CCC1NCC1C(=O)Nc2ccccc21', 'CCCC1CN(Cc2ccccc2)CCC1Nc1cccc(Nc2ncc(C)c(-c3sc(SC)c(C#N)c3C3CCCCC3)n2)c1', 'CCCCCNc1c(CC#N)cc(F)c2c1OCCO2', 'CCCCCNc1ncnc2sc(C(C)C)cc12', 'CCCC1CN(Cc2ccccc2)CCC1(O)c1cnc(C)s1', 'CCCC1CN(Cc2ccccc2)CCC1N1CCN(c2nc(-c3ccnc(Cl)c3)cc3cnccc23)CC1', 'CCCCCNC(=O)CNCCCn1c(-c2ccc(F)cc2)csc1=Nc1ccc(Cl)cc1OC', 'CCCCCNC(=O)Cc1ccc(CS(N)(=O)=O)cc1', 'CCCC1CN(Cc2ccccc2)CCC1Nc1nc(-n2cc(C(=O)O)c(=O)c3cc(F)c(F)c(Cl)c32)c(Cl)cc1F', 'CCCC1CN(Cc2ccccc2)CCC1Nc1nc(C)nc(C)c1Cl']\n",
      "        XLogP        TPSA\n",
      "0   -6.516038  -28.439141\n",
      "1  -41.850107 -166.471751\n",
      "2  -94.592712 -259.662868\n",
      "3 -164.430707 -140.480849\n",
      "4  -31.102282  -28.026440\n",
      "5  -43.549365   -0.469900\n",
      "6  -25.025876 -235.447459\n",
      "7   -0.475018 -445.103218\n",
      "8  -32.506699 -263.158445\n",
      "9 -101.251911   -8.879936\n"
     ]
    }
   ],
   "source": [
    "for reac,product,tmp in ismd_main(init_samples,target_range):\n",
    "    print(init_samples)\n",
    "    print(product)\n",
    "    print(tmp)"
   ]
  },
  {
   "cell_type": "code",
   "execution_count": null,
   "metadata": {},
   "outputs": [],
   "source": []
  }
 ],
 "metadata": {
  "kernelspec": {
   "display_name": "Python 3",
   "language": "python",
   "name": "python3"
  },
  "language_info": {
   "codemirror_mode": {
    "name": "ipython",
    "version": 3
   },
   "file_extension": ".py",
   "mimetype": "text/x-python",
   "name": "python",
   "nbconvert_exporter": "python",
   "pygments_lexer": "ipython3",
   "version": "3.6.10"
  }
 },
 "nbformat": 4,
 "nbformat_minor": 4
}
